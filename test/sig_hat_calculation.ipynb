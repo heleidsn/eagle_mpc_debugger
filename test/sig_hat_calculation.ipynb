{
 "cells": [
  {
   "cell_type": "code",
   "execution_count": 3,
   "id": "4f6c5ac8",
   "metadata": {},
   "outputs": [
    {
     "name": "stdout",
     "output_type": "stream",
     "text": [
      "state_dim: 17\n",
      "state_dim_euler: 16\n",
      "control_dim: 8\n",
      "arm_joint_num: 2\n",
      "[ 2.014   0.      0.     -0.     -0.0389  0.     -0.027  -0.0091]\n",
      "[ 0.      2.014   0.      0.0389 -0.      0.0002  0.      0.    ]\n",
      "[ 0.      0.      2.014  -0.     -0.0002 -0.     -0.     -0.    ]\n",
      "[-0.      0.0389 -0.      0.0273 -0.      0.     -0.     -0.    ]\n",
      "[-0.0389 -0.     -0.0002 -0.      0.0296 -0.      0.0064  0.0025]\n",
      "[ 0.      0.0002 -0.      0.     -0.      0.0276 -0.     -0.    ]\n",
      "[-0.027   0.     -0.     -0.      0.0064 -0.      0.0044  0.0018]\n",
      "[-0.0091  0.     -0.     -0.      0.0025 -0.      0.0018  0.0009]\n"
     ]
    }
   ],
   "source": [
    "import os\n",
    "import pinocchio as pin\n",
    "import numpy as np\n",
    "import matplotlib.pyplot as plt\n",
    "\n",
    "# pin.initGnuplot()\n",
    "\n",
    "# set default print options\n",
    "np.set_printoptions(precision=4, suppress=True)\n",
    "\n",
    "# create robot model using pinocchio\n",
    "urdf_path = '/home/helei/catkin_eagle_mpc/src/eagle_mpc_debugger/models/urdf/s500_uam_simple.urdf'\n",
    "model = pin.buildModelFromUrdf(urdf_path, pin.JointModelFreeFlyer())\n",
    "data = model.createData()\n",
    "\n",
    "state_dim = model.nq + model.nv  # number of state using quaternion\n",
    "state_dim_euler = state_dim - 1                   # number of state using euler angle\n",
    "control_dim = model.nv\n",
    "arm_joint_num = model.nq - 7\n",
    "\n",
    "print(f\"state_dim: {state_dim}\")\n",
    "print(f\"state_dim_euler: {state_dim_euler}\")\n",
    "print(f\"control_dim: {control_dim}\")\n",
    "print(f\"arm_joint_num: {arm_joint_num}\")\n",
    "\n",
    "q0 = pin.neutral(model)               # default “neutral” configuration\n",
    "v0 = pin.utils.zero(model.nv)         # zero velocity\n",
    "\n",
    "# get inertia matrix\n",
    "inertia_matrix = pin.crba(model, data, q0)\n",
    "\n",
    "# get coriolis matrix\n",
    "# coriolis_matrix = pin.coriolis(model, data, q0, v0)\n",
    "\n",
    "# # get gravity vector\n",
    "# gravity_vector = pin.rnea(model, data, q0, v0, np.zeros(model.nv))\n",
    "\n",
    "# # get mass matrix\n",
    "# mass_matrix = pin.mass(model, data, q0)\n",
    "\n",
    "# # get mass matrix inverse\n",
    "# mass_matrix_inverse = np.linalg.inv(mass_matrix)\n",
    "for i in range(8):\n",
    "    print(inertia_matrix[:, i])  \n"
   ]
  },
  {
   "cell_type": "code",
   "execution_count": null,
   "id": "89acd699",
   "metadata": {},
   "outputs": [
    {
     "name": "stdout",
     "output_type": "stream",
     "text": [
      "[0.  0.  0.  0.  0.  0.  1.  1.2 0.6]\n",
      "[ 2.014   0.      0.     -0.     -0.0163  0.     -0.0044  0.002 ]\n",
      "[ 0.      2.014   0.      0.0163 -0.     -0.0255  0.      0.    ]\n",
      "[ 0.      0.      2.014  -0.      0.0255 -0.      0.0256  0.0089]\n",
      "[-0.      0.0163 -0.      0.0198 -0.     -0.0023 -0.     -0.    ]\n",
      "[-0.0163 -0.      0.0255 -0.      0.0259 -0.      0.0044  0.0015]\n",
      "[ 0.     -0.0255 -0.     -0.0023 -0.      0.0315 -0.      0.    ]\n",
      "[-0.0044  0.      0.0256 -0.      0.0044 -0.      0.0041  0.0017]\n",
      "[ 0.002   0.      0.0089 -0.      0.0015  0.      0.0017  0.0009]\n"
     ]
    }
   ],
   "source": [
    "q1 = q0.copy()\n",
    "\n",
    "q1[7] = 1.2\n",
    "q1[8] = 0.6\n",
    "\n",
    "print(q1)\n",
    "\n",
    "inertia_matrix = pin.crba(model, data, q1)\n",
    "\n",
    "for i in range(8):\n",
    "    print(inertia_matrix[:, i])  "
   ]
  },
  {
   "cell_type": "markdown",
   "id": "b89f62a6",
   "metadata": {},
   "source": [
    "Get relationship between K and dt, As"
   ]
  },
  {
   "cell_type": "code",
   "execution_count": 29,
   "id": "39ab1c1e",
   "metadata": {},
   "outputs": [],
   "source": [
    "import numpy as np\n",
    "import scipy.linalg as sLA\n",
    "\n",
    "def get_K_matrix(As, dt, state_dim_euler):\n",
    "    a_s = np.ones(state_dim_euler) * As #! Hurwitz matrix\n",
    "        \n",
    "    # Pre-compute matrices for optimization\n",
    "    A_s = np.diag(a_s)  # diagonal Hurwitz matrix\n",
    "    expm_A_s_dt = sLA.expm(A_s * dt)\n",
    "    \n",
    "    # Pre-compute PHI inverse elements since A_s is diagonal\n",
    "    # For a diagonal matrix A, exp(A*dt) is a diagonal matrix with exp(a_ii*dt)\n",
    "    # And (exp(A*dt) - I) is diagonal with (exp(a_ii*dt) - 1)\n",
    "    # Therefore PHI = A^(-1)(exp(A*dt) - I) is diagonal with (exp(a_ii*dt) - 1)/a_ii\n",
    "    expm_minus_I = expm_A_s_dt - np.identity(state_dim_euler)\n",
    "    PHI_diag = expm_minus_I.diagonal() / a_s\n",
    "    PHI_inv_diag = 1.0 / PHI_diag  # Pre-compute the inverse elements\n",
    "    \n",
    "    return PHI_inv_diag\n",
    "\n",
    "def get_K(As, dt):\n",
    "    # a_s = np.ones(state_dim_euler) * As #! Hurwitz matrix\n",
    "        \n",
    "    expm_A_s_dt = np.exp(As * dt)\n",
    "\n",
    "    expm_A_s_dt_minus_I = expm_A_s_dt - 1\n",
    "\n",
    "    Phi = expm_A_s_dt_minus_I / As\n",
    "\n",
    "    K = expm_A_s_dt / Phi\n",
    "    \n",
    "    return K"
   ]
  },
  {
   "cell_type": "code",
   "execution_count": 40,
   "id": "cfa05f77",
   "metadata": {},
   "outputs": [
    {
     "name": "stdout",
     "output_type": "stream",
     "text": [
      "[100.5008 100.5008 100.5008 100.5008 100.5008 100.5008 100.5008 100.5008]\n",
      "99.50083333194499\n"
     ]
    }
   ],
   "source": [
    "As = -1\n",
    "dt = 0.01\n",
    "state_dim_euler = 8\n",
    "\n",
    "print(get_K_matrix(As, dt, state_dim_euler))\n",
    "print(get_K(As, dt))"
   ]
  }
 ],
 "metadata": {
  "kernelspec": {
   "display_name": "Python 3",
   "language": "python",
   "name": "python3"
  },
  "language_info": {
   "codemirror_mode": {
    "name": "ipython",
    "version": 3
   },
   "file_extension": ".py",
   "mimetype": "text/x-python",
   "name": "python",
   "nbconvert_exporter": "python",
   "pygments_lexer": "ipython3",
   "version": "3.8.10"
  }
 },
 "nbformat": 4,
 "nbformat_minor": 5
}
